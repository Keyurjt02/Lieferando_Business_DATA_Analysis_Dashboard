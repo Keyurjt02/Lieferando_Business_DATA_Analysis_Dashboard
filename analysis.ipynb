{
 "cells": [
  {
   "cell_type": "markdown",
   "id": "0d8dd650",
   "metadata": {},
   "source": [
    "# BlinkIT Grocery Data Analysis\n",
    "This notebook mirrors Power BI-style analysis in Python."
   ]
  },
  {
   "cell_type": "code",
   "execution_count": null,
   "id": "077b5798",
   "metadata": {},
   "outputs": [],
   "source": [
    "\n",
    "import pandas as pd\n",
    "import numpy as np\n",
    "import matplotlib.pyplot as plt\n",
    "\n",
    "# Load data\n",
    "df = pd.read_excel(\"DATASET.xlsx\", sheet_name=\"BlinkIT Grocery Data\")\n",
    "df.head()\n"
   ]
  },
  {
   "cell_type": "code",
   "execution_count": null,
   "id": "920c4ace",
   "metadata": {},
   "outputs": [],
   "source": [
    "\n",
    "# Clean data\n",
    "df[\"Item Fat Content\"] = df[\"Item Fat Content\"].replace(\n",
    "    {\"LF\":\"Low Fat\",\"low fat\":\"Low Fat\",\"reg\":\"Regular\",\"low Fat\":\"Low Fat\"}\n",
    ").fillna(\"Unknown\")\n",
    "\n",
    "df[\"Item Weight\"] = df.groupby(\"Item Type\")[\"Item Weight\"].transform(\n",
    "    lambda s: s.fillna(s.median())\n",
    ")\n",
    "df[\"Item Weight\"] = df[\"Item Weight\"].fillna(df[\"Item Weight\"].median())\n",
    "df = df[df[\"Sales\"].notna() & (df[\"Sales\"]>=0)]\n",
    "df.head()\n"
   ]
  },
  {
   "cell_type": "code",
   "execution_count": null,
   "id": "2d81e154",
   "metadata": {},
   "outputs": [],
   "source": [
    "\n",
    "# KPI summary\n",
    "kpis = {\n",
    "    \"total_sales\": float(df[\"Sales\"].sum()),\n",
    "    \"avg_sale\": float(df[\"Sales\"].mean()),\n",
    "    \"median_sale\": float(df[\"Sales\"].median()),\n",
    "    \"items\": int(df.shape[0]),\n",
    "    \"unique_products\": int(df[\"Item Identifier\"].nunique()),\n",
    "    \"unique_outlets\": int(df[\"Outlet Identifier\"].nunique()),\n",
    "    \"avg_rating\": float(df[\"Rating\"].mean())\n",
    "}\n",
    "kpis\n"
   ]
  },
  {
   "cell_type": "code",
   "execution_count": null,
   "id": "1e7cd81e",
   "metadata": {},
   "outputs": [],
   "source": [
    "\n",
    "# Sales by Item Type\n",
    "g = df.groupby(\"Item Type\")[\"Sales\"].sum().sort_values(ascending=False)\n",
    "plt.figure()\n",
    "g.plot(kind=\"bar\")\n",
    "plt.title(\"Total Sales by Item Type\")\n",
    "plt.ylabel(\"Total Sales\")\n",
    "plt.xticks(rotation=45, ha=\"right\")\n",
    "plt.show()\n"
   ]
  },
  {
   "cell_type": "code",
   "execution_count": null,
   "id": "fc9dba08",
   "metadata": {},
   "outputs": [],
   "source": [
    "\n",
    "# Sales by Outlet Type\n",
    "g = df.groupby(\"Outlet Type\")[\"Sales\"].sum().sort_values(ascending=False)\n",
    "plt.figure()\n",
    "g.plot(kind=\"bar\")\n",
    "plt.title(\"Total Sales by Outlet Type\")\n",
    "plt.ylabel(\"Total Sales\")\n",
    "plt.xticks(rotation=45, ha=\"right\")\n",
    "plt.show()\n"
   ]
  },
  {
   "cell_type": "code",
   "execution_count": null,
   "id": "8dfbb32b",
   "metadata": {},
   "outputs": [],
   "source": [
    "\n",
    "# Sales by Outlet Size\n",
    "order = [\"Small\",\"Medium\",\"High\"]\n",
    "g = df.groupby(\"Outlet Size\")[\"Sales\"].sum().reindex(order)\n",
    "plt.figure()\n",
    "g.plot(kind=\"bar\")\n",
    "plt.title(\"Total Sales by Outlet Size\")\n",
    "plt.ylabel(\"Total Sales\")\n",
    "plt.show()\n"
   ]
  },
  {
   "cell_type": "code",
   "execution_count": null,
   "id": "3f2aa98c",
   "metadata": {},
   "outputs": [],
   "source": [
    "\n",
    "# Average Sales by Fat Content\n",
    "g = df.groupby(\"Item Fat Content\")[\"Sales\"].mean().sort_values(ascending=False)\n",
    "plt.figure()\n",
    "g.plot(kind=\"bar\")\n",
    "plt.title(\"Average Sales by Fat Content\")\n",
    "plt.ylabel(\"Average Sales\")\n",
    "plt.xticks(rotation=45, ha=\"right\")\n",
    "plt.show()\n"
   ]
  },
  {
   "cell_type": "code",
   "execution_count": null,
   "id": "d0c71481",
   "metadata": {},
   "outputs": [],
   "source": [
    "\n",
    "# Sales by Establishment Year\n",
    "g = df.groupby(\"Outlet Establishment Year\")[\"Sales\"].sum().sort_index()\n",
    "plt.figure()\n",
    "g.plot(kind=\"line\", marker=\"o\")\n",
    "plt.title(\"Sales by Outlet Establishment Year\")\n",
    "plt.ylabel(\"Total Sales\")\n",
    "plt.show()\n"
   ]
  },
  {
   "cell_type": "code",
   "execution_count": null,
   "id": "c31eb250",
   "metadata": {},
   "outputs": [],
   "source": [
    "\n",
    "# Item Visibility vs Sales\n",
    "plt.figure()\n",
    "plt.scatter(df[\"Item Visibility\"], df[\"Sales\"], s=8, alpha=0.6)\n",
    "plt.title(\"Item Visibility vs Sales\")\n",
    "plt.xlabel(\"Item Visibility\"); plt.ylabel(\"Sales\")\n",
    "plt.show()\n"
   ]
  },
  {
   "cell_type": "code",
   "execution_count": null,
   "id": "cb2e49fa",
   "metadata": {},
   "outputs": [],
   "source": [
    "\n",
    "# Top 10 Products\n",
    "g = df.groupby(\"Item Identifier\")[\"Sales\"].sum().sort_values(ascending=False).head(10)\n",
    "plt.figure()\n",
    "g.plot(kind=\"bar\")\n",
    "plt.title(\"Top 10 Products by Sales\")\n",
    "plt.ylabel(\"Total Sales\")\n",
    "plt.xticks(rotation=45, ha=\"right\")\n",
    "plt.show()\n"
   ]
  }
 ],
 "metadata": {},
 "nbformat": 4,
 "nbformat_minor": 5
}
